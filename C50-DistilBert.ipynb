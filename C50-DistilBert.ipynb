{
 "cells": [
  {
   "cell_type": "markdown",
   "source": [
    "# \"Authorship Identification: Part-2 (DistilBERT Transformer)\"\n",
    "> \"Using transfer-learning to fine-tune pretrained DistilBERT transformer for authorship identification. In a nutshell, DistilBERT is a small version of BERT which is \"smaller, faster, cheaper, and lighter\". It has 40% less parameters original BERT, runs 60% faster and preserve over 95% of BERT’s performances (measured on the GLUE language understanding benchmark).\"\n",
    "\n",
    "- toc: true\n",
    "- sticky_rank: 2\n",
    "- branch: master\n",
    "- badges: true\n",
    "- comments: true\n",
    "- categories: [project, machine-learning, notebook, python]\n",
    "- image: images/vignette/base.jpg\n",
    "- hide: false\n",
    "- search_exclude: false\n"
   ],
   "metadata": {}
  },
  {
   "cell_type": "markdown",
   "source": [
    "# Abstract\n",
    "**This is a follow-up post on the authorship identification project.**<br/>\n",
    "I regard the past few years as the inception of the era of Transformers which started with the popular Research Paper \"Attention is all you need\" by \"somebody\" in 2020. Several transformer architectures have shown up since then. Some of the famous ones are -BERT, DistillBERT, GPT, GPT2, and the latest GPT3 which has outperformed many previous state-of-the-art models at several tasks in NLP, BERT (by Google) is also one of the most popular transformers out there.<br/>\n",
    "Transformers are very large models with multi-billions of parameters. Pretrained transformers have shown tremendous capability when used fine-tuned for a downstream task in Transfer Learning similar to the CNNs in Computer Vision.<br/>\n",
    "In this part, I'll use fine-tuned DistilBERT transformer which is a smaller version of the original BERT for the downstream classification task.<br/>\n",
    "I'll use the `transformers` library from Huggingface which consists of numerous state-of-the-art transformers and supports several downstream tasks out of the box. In short, I consider Huggingface a great starting point for a person engrossed in NLP and it offers tons of great functionalities.<br/>\n",
    "I'll provide links to resources for you to learn more about these technologies. \n"
   ],
   "metadata": {}
  },
  {
   "cell_type": "code",
   "execution_count": null,
   "source": [
    "# Imports\n",
    "import keras\n",
    "import tensorflow as tf\n",
    "import numpy as np\n",
    "from pathlib import Path\n",
    "from utils import plot_history\n",
    "from keras.preprocessing import text_dataset_from_directory\n",
    "\n",
    "ds_dir = Path('data/C50/')\n",
    "train_dir = ds_dir / 'train'\n",
    "test_dir = ds_dir / 'test'\n",
    "seed = 1000\n",
    "batch_size = 16\n",
    "\n",
    "\n",
    "train_ds = text_dataset_from_directory(train_dir,\n",
    "                                     label_mode='int',\n",
    "                                     seed=seed,\n",
    "                                     shuffle=True,\n",
    "                                     validation_split=0.2,\n",
    "                                     subset='training')\n",
    "\n",
    "val_ds = text_dataset_from_directory(train_dir,\n",
    "                                      label_mode='int',\n",
    "                                      seed=seed,\n",
    "                                      shuffle=True,\n",
    "                                      validation_split=0.2,\n",
    "                                     subset='validation')\n",
    "\n",
    "test_ds = text_dataset_from_directory(test_dir,\n",
    "                                       label_mode='int',\n",
    "                                       seed=seed,\n",
    "                                       shuffle=True,\n",
    "                                       batch_size=batch_size)\n",
    "\n",
    "class_names = train_ds.class_names\n"
   ],
   "outputs": [],
   "metadata": {}
  },
  {
   "cell_type": "code",
   "execution_count": null,
   "source": [
    "# Prepare and Configure the datasets\n",
    "from utils import get_text, prepare_batched\n",
    "from transformers import DistilBertTokenizerFast\n",
    "\n",
    "AUTOTUNE = tf.data.AUTOTUNE\n",
    "\n",
    "tokenizer = DistilBertTokenizerFast.from_pretrained('distilbert-base-uncased')\n",
    "\n",
    "batch_size=2\n",
    "\n",
    "train_ds = prepare_batched(train_ds, tokenizer, batch_size=batch_size)\n",
    "val_ds = prepare_batched(val_ds, tokenizer, batch_size=batch_size)\n",
    "test_ds = prepare_batched(test_ds, tokenizer, batch_size=batch_size)"
   ],
   "outputs": [],
   "metadata": {}
  },
  {
   "cell_type": "code",
   "execution_count": null,
   "source": [
    "# Fine-tuning the model\n",
    "keras.backend.clear_session()\n",
    "from transformers import TFAutoModelForSequenceClassification\n",
    "\n",
    "model = TFAutoModelForSequenceClassification.from_pretrained('distilbert-base-uncased', num_labels=50)\n",
    "\n",
    "model.compile(\n",
    "    optimizer=tf.keras.optimizers.Adam(learning_rate=5e-5),\n",
    "    loss=tf.keras.losses.SparseCategoricalCrossentropy(from_logits=True),\n",
    "    metrics=tf.metrics.SparseCategoricalAccuracy()\n",
    ")\n",
    "\n",
    "history = model.fit(train_ds, validation_data=val_ds, epochs=1)\n",
    "\n",
    "plot_history(history, metric='sparse_categorical_accuracy', save_path=Path('plots/distilbert.jpg'))\n",
    "model.save_pretrained(\"DistilBERT_finetuned.h5\")\n"
   ],
   "outputs": [],
   "metadata": {}
  },
  {
   "cell_type": "code",
   "execution_count": null,
   "source": [
    "print(\"Evaluate model on test dataset\")\n",
    "model.evaluate(test_ds)"
   ],
   "outputs": [],
   "metadata": {}
  },
  {
   "cell_type": "code",
   "execution_count": null,
   "source": [],
   "outputs": [],
   "metadata": {}
  }
 ],
 "metadata": {
  "kernelspec": {
   "display_name": "ml",
   "language": "python",
   "name": "ml"
  },
  "language_info": {
   "codemirror_mode": {
    "name": "ipython",
    "version": 3
   },
   "file_extension": ".py",
   "mimetype": "text/x-python",
   "name": "python",
   "nbconvert_exporter": "python",
   "pygments_lexer": "ipython3",
   "version": "3.9.5"
  },
  "latex_envs": {
   "LaTeX_envs_menu_present": true,
   "autoclose": false,
   "autocomplete": true,
   "bibliofile": "biblio.bib",
   "cite_by": "apalike",
   "current_citInitial": 1,
   "eqLabelWithNumbers": true,
   "eqNumInitial": 1,
   "hotkeys": {
    "equation": "Ctrl-E",
    "itemize": "Ctrl-I"
   },
   "labels_anchors": false,
   "latex_user_defs": false,
   "report_style_numbering": false,
   "user_envs_cfg": false
  },
  "toc": {
   "base_numbering": 1,
   "nav_menu": {},
   "number_sections": false,
   "sideBar": true,
   "skip_h1_title": false,
   "title_cell": "Table of Contents",
   "title_sidebar": "Contents",
   "toc_cell": false,
   "toc_position": {},
   "toc_section_display": true,
   "toc_window_display": false
  },
  "varInspector": {
   "cols": {
    "lenName": 16,
    "lenType": 16,
    "lenVar": 40
   },
   "kernels_config": {
    "python": {
     "delete_cmd_postfix": "",
     "delete_cmd_prefix": "del ",
     "library": "var_list.py",
     "varRefreshCmd": "print(var_dic_list())"
    },
    "r": {
     "delete_cmd_postfix": ") ",
     "delete_cmd_prefix": "rm(",
     "library": "var_list.r",
     "varRefreshCmd": "cat(var_dic_list()) "
    }
   },
   "types_to_exclude": [
    "module",
    "function",
    "builtin_function_or_method",
    "instance",
    "_Feature"
   ],
   "window_display": false
  }
 },
 "nbformat": 4,
 "nbformat_minor": 2
}