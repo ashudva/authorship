{
 "cells": [
  {
   "cell_type": "markdown",
   "metadata": {},
   "source": [
    "# Data Preprocessing"
   ]
  },
  {
   "cell_type": "markdown",
   "metadata": {},
   "source": [
    "## Load dataset\n",
    "With 80-20 train and validation split"
   ]
  },
  {
   "cell_type": "code",
   "execution_count": 1,
   "metadata": {},
   "outputs": [
    {
     "name": "stdout",
     "output_type": "stream",
     "text": [
      "Found 2500 files belonging to 50 classes.\n",
      "Found 2500 files belonging to 50 classes.\n",
      "Using 500 files for validation.\n",
      "Found 2500 files belonging to 50 classes.\n",
      "Using 2000 files for training.\n"
     ]
    }
   ],
   "source": [
    "import keras\n",
    "import numpy as np\n",
    "import tensorflow as tf\n",
    "from pathlib import Path\n",
    "from utils import plot_history\n",
    "from keras import models, layers\n",
    "from keras.preprocessing import text_dataset_from_directory\n",
    "from keras.layers.experimental.preprocessing import TextVectorization\n",
    "\n",
    "ds_dir = Path('data/C50/')\n",
    "train_dir = ds_dir / 'train'\n",
    "test_dir = ds_dir / 'test'\n",
    "seed = 123\n",
    "batch_size = 32\n",
    "\n",
    "train_ds = text_dataset_from_directory(train_dir,\n",
    "                                       label_mode='categorical',\n",
    "                                       seed=seed,\n",
    "                                       shuffle=True,\n",
    "                                       batch_size=batch_size)\n",
    "\n",
    "val_ds = text_dataset_from_directory(test_dir,\n",
    "                                     label_mode='categorical',\n",
    "                                     seed=seed,\n",
    "                                     shuffle=True,\n",
    "                                     batch_size=batch_size,\n",
    "                                     validation_split=0.2,\n",
    "                                     subset='validation')\n",
    "\n",
    "test_ds = text_dataset_from_directory(test_dir,\n",
    "                                     label_mode='categorical',\n",
    "                                     seed=seed,\n",
    "                                     shuffle=True,\n",
    "                                     validation_split=0.2,\n",
    "                                     subset='training',\n",
    "                                     batch_size=128)"
   ]
  },
  {
   "cell_type": "code",
   "execution_count": 2,
   "metadata": {},
   "outputs": [
    {
     "name": "stdout",
     "output_type": "stream",
     "text": [
      "length of largest article: 1460\n"
     ]
    }
   ],
   "source": [
    "MAX_LEN = 0\n",
    "for file in train_dir.glob('*/*.txt'):\n",
    "    with file.open() as f:\n",
    "        seq_len = 0\n",
    "        for line in f.readlines():\n",
    "            seq_len += len(line.split())\n",
    "#         print(seq_len)\n",
    "        if MAX_LEN < seq_len:\n",
    "            MAX_LEN = seq_len\n",
    "print(f\"length of largest article: {MAX_LEN}\")"
   ]
  },
  {
   "cell_type": "markdown",
   "metadata": {},
   "source": [
    "## Inspect dataset"
   ]
  },
  {
   "cell_type": "code",
   "execution_count": 3,
   "metadata": {},
   "outputs": [
    {
     "name": "stdout",
     "output_type": "stream",
     "text": [
      "nclasses: 50\n",
      "first 4 classes/users: ['AaronPressman' 'AlanCrosby' 'AlexanderSmith' 'BenjaminKangLim']\n",
      "Shape of texts (32,)\n",
      "Class of 2nd data point: ['MureDickie']\n"
     ]
    }
   ],
   "source": [
    "class_names = train_ds.class_names\n",
    "class_names = np.asarray(class_names)\n",
    "print(f\"nclasses: {len(class_names)}\")\n",
    "print(f'first 4 classes/users: {class_names[:4]}')\n",
    "for texts, labels in train_ds.take(1):\n",
    "    print(\"Shape of texts\", texts.shape)\n",
    "    print(f'Class of 2nd data point: {class_names[labels.numpy()[1].astype(bool)]}')"
   ]
  },
  {
   "cell_type": "code",
   "execution_count": 4,
   "metadata": {},
   "outputs": [
    {
     "name": "stdout",
     "output_type": "stream",
     "text": [
      "Users of first batch: ['BernardHickey' 'MarkBendeich' 'ToddNissen' 'SamuelPerry' 'KeithWeir'\n",
      " 'BradDorfman' 'TanEeLyn' 'NickLouth' 'GrahamEarnshaw' 'JanLopatka'\n",
      " 'MarkBendeich' 'KouroshKarimkhany' 'SimonCowell' 'SarahDavison'\n",
      " 'HeatherScoffield' 'AlexanderSmith' 'RogerFillion' 'ToddNissen'\n",
      " 'BernardHickey' 'JanLopatka' 'JanLopatka' 'JoWinterbottom' 'ScottHillis'\n",
      " 'SimonCowell' 'LynnleyBrowning' 'MartinWolk' 'JaneMacartney' 'JoeOrtiz'\n",
      " 'TanEeLyn' 'SamuelPerry' 'MarkBendeich' 'MartinWolk']\n"
     ]
    }
   ],
   "source": [
    "for batch, label in iter(val_ds):\n",
    "    index = np.argmax(label.numpy(), axis=1).astype(np.int)\n",
    "    print(f'Users of first batch: {class_names[index]}')\n",
    "    break"
   ]
  },
  {
   "cell_type": "markdown",
   "metadata": {},
   "source": [
    "## Text Vectorization\n",
    "Text vectorization includes the following tasks using `TextVectorization` layer:\n",
    "1. `Standardization`\n",
    "2. `Tokenization`\n",
    "3. `Vectorization`"
   ]
  },
  {
   "cell_type": "markdown",
   "metadata": {},
   "source": [
    "### Initial run of the vectorization layers\n",
    "1. Make a text-only dataset (without labels), then call adapt\n",
    "2. Do not call adapt on test dataset to prevent data-leak\n",
    "3. train and save vocab to disk\n",
    "\n",
    "Note: Use it only for the first time or if vocab is not saved"
   ]
  },
  {
   "cell_type": "code",
   "execution_count": 5,
   "metadata": {},
   "outputs": [
    {
     "name": "stdout",
     "output_type": "stream",
     "text": [
      "pickle file vocab_C50.pkl already exists!\n",
      "object <class 'list'> saved to file vocab_C50.pkl!\n",
      "vocab size of vectorizer: 34000\n"
     ]
    }
   ],
   "source": [
    "from utils import save_object\n",
    "\n",
    "### Define vectorization layers\n",
    "VOCAB_SIZE = 34000\n",
    "MAX_LEN = 1400\n",
    "\n",
    "vectorize_layer = TextVectorization(\n",
    "    max_tokens=VOCAB_SIZE,\n",
    "    output_mode='int',\n",
    "    output_sequence_length=MAX_LEN\n",
    ")\n",
    "\n",
    "# Train the layers to learn a vocab\n",
    "train_text = train_ds.map(lambda text, lables: text)\n",
    "vectorize_layer.adapt(train_text)\n",
    "\n",
    "\n",
    "# Save the vocabulary to disk\n",
    "# Run this cell for the first time only\n",
    "vocab = vectorize_layer.get_vocabulary()\n",
    "vocab_path = Path('vocab/vocab_C50.pkl')\n",
    "save_object(vocab, vocab_path)\n",
    "vocab_len = len(vocab)\n",
    "print(f\"vocab size of vectorizer: {vocab_len}\")"
   ]
  },
  {
   "cell_type": "markdown",
   "metadata": {},
   "source": [
    "### Vectorization layers from saved vocab"
   ]
  },
  {
   "cell_type": "code",
   "execution_count": null,
   "metadata": {},
   "outputs": [],
   "source": [
    "# Load vocab\n",
    "from utils import load_object\n",
    "vocab_path = Path('vocab/vocab_C50.pkl')\n",
    "vocab = load_object(vocab_path)\n",
    "\n",
    "VOCAB_SIZE = 34000\n",
    "MAX_LEN  = 1400\n",
    "\n",
    "vectorize_layer = TextVectorization(\n",
    "    max_tokens=VOCAB_SIZE, \n",
    "    output_mode='int',\n",
    "    output_sequence_length=MAX_LEN,\n",
    "    vocabulary=vocab\n",
    ")"
   ]
  },
  {
   "cell_type": "code",
   "execution_count": null,
   "metadata": {},
   "outputs": [],
   "source": [
    "len(vocab)"
   ]
  },
  {
   "cell_type": "markdown",
   "metadata": {},
   "source": [
    "## Process dataset through layers"
   ]
  },
  {
   "cell_type": "code",
   "execution_count": 6,
   "metadata": {},
   "outputs": [],
   "source": [
    "def vectorize(text, label):\n",
    "    text = tf.expand_dims(text, -1)\n",
    "    return vectorize_layer(text), label\n",
    "\n",
    "AUTOTUNE = tf.data.AUTOTUNE\n",
    "def prepare(ds):\n",
    "    return ds.cache().prefetch(buffer_size=AUTOTUNE)"
   ]
  },
  {
   "cell_type": "code",
   "execution_count": 7,
   "metadata": {},
   "outputs": [],
   "source": [
    "train_ds = train_ds.map(vectorize)\n",
    "val_ds = val_ds.map(vectorize)\n",
    "test_ds = test_ds.map(vectorize)\n",
    "\n",
    "# Configure the datasets for fast training \n",
    "train_ds = prepare(train_ds)\n",
    "val_ds = prepare(val_ds)\n",
    "test_ds = prepare(test_ds)"
   ]
  },
  {
   "cell_type": "code",
   "execution_count": 8,
   "metadata": {},
   "outputs": [
    {
     "name": "stdout",
     "output_type": "stream",
     "text": [
      "(32, 1400)\n"
     ]
    }
   ],
   "source": [
    "for text, label in train_ds.take(1):\n",
    "    print(text.shape)"
   ]
  },
  {
   "cell_type": "markdown",
   "metadata": {},
   "source": [
    "# Modelling and Experimentation"
   ]
  },
  {
   "cell_type": "markdown",
   "metadata": {},
   "source": [
    "## Base model"
   ]
  },
  {
   "cell_type": "code",
   "execution_count": 9,
   "metadata": {},
   "outputs": [
    {
     "name": "stdout",
     "output_type": "stream",
     "text": [
      "loaded object from file vocab_C50.pkl\n",
      "(34000, 100)\n"
     ]
    }
   ],
   "source": [
    "##### Pretrained Glove Embeddings #####\r\n",
    "## Parse the weights\r\n",
    "from utils import load_object\r\n",
    "emb_dim = 100\r\n",
    "glove_file = Path(f'vocab/glove/glove.6B.{emb_dim}d.txt')\r\n",
    "emb_index = {}\r\n",
    "with glove_file.open(encoding='utf-8') as f:\r\n",
    "    for line in f.readlines():\r\n",
    "        values = line.split()\r\n",
    "        word = values[0]\r\n",
    "        coef = values[1:]\r\n",
    "        emb_index[word] = coef\r\n",
    "\r\n",
    "##### Getting embedding weights #####\r\n",
    "vocab = load_object(Path('vocab/vocab_C50.pkl'))\r\n",
    "emb_matrix = np.zeros((VOCAB_SIZE, emb_dim))\r\n",
    "for index, word in enumerate(vocab):\r\n",
    "    # get coef of word\r\n",
    "    emb_vector = emb_index.get(word)\r\n",
    "    if emb_vector is not None:\r\n",
    "        emb_matrix[index] = emb_vector\r\n",
    "print(emb_matrix.shape)"
   ]
  },
  {
   "cell_type": "code",
   "execution_count": 16,
   "metadata": {},
   "outputs": [
    {
     "name": "stdout",
     "output_type": "stream",
     "text": [
      "Model: \"sequential\"\n",
      "_________________________________________________________________\n",
      "Layer (type)                 Output Shape              Param #   \n",
      "=================================================================\n",
      "embedding (Embedding)        (None, 1400, 100)         3400000   \n",
      "_________________________________________________________________\n",
      "conv1d (Conv1D)              (None, 1390, 256)         281856    \n",
      "_________________________________________________________________\n",
      "max_pooling1d (MaxPooling1D) (None, 198, 256)          0         \n",
      "_________________________________________________________________\n",
      "dropout (Dropout)            (None, 198, 256)          0         \n",
      "_________________________________________________________________\n",
      "bidirectional (Bidirectional (None, 198, 256)          394240    \n",
      "_________________________________________________________________\n",
      "conv1d_1 (Conv1D)            (None, 196, 128)          98432     \n",
      "_________________________________________________________________\n",
      "max_pooling1d_1 (MaxPooling1 (None, 65, 128)           0         \n",
      "_________________________________________________________________\n",
      "dropout_1 (Dropout)          (None, 65, 128)           0         \n",
      "_________________________________________________________________\n",
      "conv1d_2 (Conv1D)            (None, 63, 64)            24640     \n",
      "_________________________________________________________________\n",
      "global_max_pooling1d (Global (None, 64)                0         \n",
      "_________________________________________________________________\n",
      "dense (Dense)                (None, 128)               8320      \n",
      "_________________________________________________________________\n",
      "dense_1 (Dense)              (None, 50)                6450      \n",
      "=================================================================\n",
      "Total params: 4,213,938\n",
      "Trainable params: 4,213,938\n",
      "Non-trainable params: 0\n",
      "_________________________________________________________________\n"
     ]
    }
   ],
   "source": [
    "keras.backend.clear_session()\r\n",
    "lstm_model = models.Sequential([\r\n",
    "    layers.Embedding(VOCAB_SIZE, emb_dim, input_shape=(MAX_LEN,)),\r\n",
    "    layers.Conv1D(256, 11, activation='relu'),\r\n",
    "    layers.MaxPooling1D(7),\r\n",
    "    layers.Dropout(0.4),\r\n",
    "    layers.Bidirectional(layers.LSTM(128, return_sequences=True)),\r\n",
    "    layers.Conv1D(128, 3, activation='relu'),\r\n",
    "    layers.MaxPooling1D(3),\r\n",
    "    layers.Dropout(0.2),\r\n",
    "    layers.Conv1D(64, 3, activation='relu'),\r\n",
    "    layers.GlobalMaxPooling1D(),\r\n",
    "    layers.Dense(128, activation='relu'),\r\n",
    "    layers.Dense(50, activation='softmax')\r\n",
    "])\r\n",
    "\r\n",
    "lstm_model.summary()"
   ]
  },
  {
   "cell_type": "code",
   "execution_count": 17,
   "metadata": {},
   "outputs": [
    {
     "name": "stdout",
     "output_type": "stream",
     "text": [
      "Model: \"sequential\"\n",
      "_________________________________________________________________\n",
      "Layer (type)                 Output Shape              Param #   \n",
      "=================================================================\n",
      "embedding (Embedding)        (None, 1400, 100)         3400000   \n",
      "_________________________________________________________________\n",
      "conv1d (Conv1D)              (None, 1390, 256)         281856    \n",
      "_________________________________________________________________\n",
      "max_pooling1d (MaxPooling1D) (None, 198, 256)          0         \n",
      "_________________________________________________________________\n",
      "dropout (Dropout)            (None, 198, 256)          0         \n",
      "_________________________________________________________________\n",
      "bidirectional (Bidirectional (None, 198, 256)          394240    \n",
      "_________________________________________________________________\n",
      "conv1d_1 (Conv1D)            (None, 196, 128)          98432     \n",
      "_________________________________________________________________\n",
      "max_pooling1d_1 (MaxPooling1 (None, 65, 128)           0         \n",
      "_________________________________________________________________\n",
      "dropout_1 (Dropout)          (None, 65, 128)           0         \n",
      "_________________________________________________________________\n",
      "conv1d_2 (Conv1D)            (None, 63, 64)            24640     \n",
      "_________________________________________________________________\n",
      "global_max_pooling1d (Global (None, 64)                0         \n",
      "_________________________________________________________________\n",
      "dense (Dense)                (None, 128)               8320      \n",
      "_________________________________________________________________\n",
      "dense_1 (Dense)              (None, 50)                6450      \n",
      "=================================================================\n",
      "Total params: 4,213,938\n",
      "Trainable params: 813,938\n",
      "Non-trainable params: 3,400,000\n",
      "_________________________________________________________________\n"
     ]
    }
   ],
   "source": [
    "lstm_model.layers[0].set_weights([emb_matrix])\r\n",
    "lstm_model.layers[0].trainable = False\r\n",
    "lstm_model.summary()"
   ]
  },
  {
   "cell_type": "code",
   "execution_count": 20,
   "metadata": {},
   "outputs": [
    {
     "name": "stdout",
     "output_type": "stream",
     "text": [
      "Epoch 1/50\n",
      "79/79 [==============================] - 12s 151ms/step - loss: 0.0892 - acc: 0.9704 - val_loss: 3.6581 - val_acc: 0.4920\n",
      "Epoch 2/50\n",
      "79/79 [==============================] - 12s 147ms/step - loss: 0.0817 - acc: 0.9768 - val_loss: 3.4798 - val_acc: 0.4680\n",
      "Epoch 3/50\n",
      "79/79 [==============================] - 11s 144ms/step - loss: 0.0736 - acc: 0.9732 - val_loss: 3.4315 - val_acc: 0.5200\n",
      "Epoch 4/50\n",
      "79/79 [==============================] - 11s 145ms/step - loss: 0.0891 - acc: 0.9716 - val_loss: 3.5485 - val_acc: 0.5000\n",
      "Epoch 5/50\n",
      "79/79 [==============================] - 11s 143ms/step - loss: 0.0636 - acc: 0.9816 - val_loss: 3.7681 - val_acc: 0.4820\n",
      "Epoch 6/50\n",
      "79/79 [==============================] - 11s 145ms/step - loss: 0.1027 - acc: 0.9696 - val_loss: 3.4984 - val_acc: 0.4920\n",
      "Epoch 7/50\n",
      "79/79 [==============================] - 11s 145ms/step - loss: 0.0725 - acc: 0.9768 - val_loss: 3.4113 - val_acc: 0.5100\n",
      "Epoch 8/50\n",
      "79/79 [==============================] - 11s 143ms/step - loss: 0.0978 - acc: 0.9696 - val_loss: 3.4835 - val_acc: 0.4800\n",
      "Epoch 9/50\n",
      "79/79 [==============================] - 11s 141ms/step - loss: 0.0661 - acc: 0.9816 - val_loss: 3.7439 - val_acc: 0.4700\n",
      "Epoch 10/50\n",
      "79/79 [==============================] - 11s 142ms/step - loss: 0.0889 - acc: 0.9704 - val_loss: 3.5315 - val_acc: 0.5120\n",
      "Epoch 11/50\n",
      "79/79 [==============================] - 11s 140ms/step - loss: 0.0659 - acc: 0.9800 - val_loss: 3.4813 - val_acc: 0.5040\n",
      "Epoch 12/50\n",
      "79/79 [==============================] - 11s 141ms/step - loss: 0.0787 - acc: 0.9772 - val_loss: 3.4702 - val_acc: 0.5080\n",
      "Epoch 13/50\n",
      "79/79 [==============================] - 11s 141ms/step - loss: 0.0629 - acc: 0.9784 - val_loss: 3.6511 - val_acc: 0.5120\n",
      "Epoch 14/50\n",
      "79/79 [==============================] - 11s 140ms/step - loss: 0.0615 - acc: 0.9824 - val_loss: 3.7876 - val_acc: 0.5100\n",
      "Epoch 15/50\n",
      "79/79 [==============================] - 11s 139ms/step - loss: 0.0396 - acc: 0.9892 - val_loss: 3.9123 - val_acc: 0.4880\n",
      "Epoch 16/50\n",
      "79/79 [==============================] - 11s 141ms/step - loss: 0.0615 - acc: 0.9816 - val_loss: 3.4928 - val_acc: 0.5020\n",
      "Epoch 17/50\n",
      "79/79 [==============================] - 11s 142ms/step - loss: 0.0712 - acc: 0.9768 - val_loss: 3.7640 - val_acc: 0.5020\n",
      "Epoch 18/50\n",
      "79/79 [==============================] - 11s 142ms/step - loss: 0.0679 - acc: 0.9796 - val_loss: 3.6356 - val_acc: 0.5020\n",
      "Epoch 19/50\n",
      "79/79 [==============================] - 11s 141ms/step - loss: 0.0628 - acc: 0.9792 - val_loss: 3.5383 - val_acc: 0.5060\n",
      "Epoch 20/50\n",
      "79/79 [==============================] - 11s 141ms/step - loss: 0.0458 - acc: 0.9860 - val_loss: 3.6301 - val_acc: 0.5180\n",
      "Epoch 21/50\n",
      "79/79 [==============================] - 11s 142ms/step - loss: 0.0525 - acc: 0.9808 - val_loss: 4.0114 - val_acc: 0.4800\n",
      "Epoch 22/50\n",
      "79/79 [==============================] - 11s 140ms/step - loss: 0.0512 - acc: 0.9880 - val_loss: 3.9411 - val_acc: 0.4680\n",
      "Epoch 23/50\n",
      "79/79 [==============================] - 12s 150ms/step - loss: 0.0604 - acc: 0.9832 - val_loss: 3.7982 - val_acc: 0.5040\n",
      "Epoch 24/50\n",
      "79/79 [==============================] - 11s 142ms/step - loss: 0.0688 - acc: 0.9772 - val_loss: 3.7042 - val_acc: 0.5000\n",
      "Epoch 25/50\n",
      "79/79 [==============================] - 11s 139ms/step - loss: 0.0443 - acc: 0.9888 - val_loss: 3.8899 - val_acc: 0.5060\n",
      "Epoch 26/50\n",
      "79/79 [==============================] - 11s 140ms/step - loss: 0.0455 - acc: 0.9880 - val_loss: 3.8594 - val_acc: 0.4980\n",
      "Epoch 27/50\n",
      "79/79 [==============================] - 11s 140ms/step - loss: 0.0542 - acc: 0.9864 - val_loss: 3.7222 - val_acc: 0.5100\n",
      "Epoch 28/50\n",
      "79/79 [==============================] - 11s 143ms/step - loss: 0.0855 - acc: 0.9724 - val_loss: 3.7621 - val_acc: 0.5140\n",
      "Epoch 29/50\n",
      "79/79 [==============================] - 11s 141ms/step - loss: 0.0559 - acc: 0.9832 - val_loss: 3.9405 - val_acc: 0.5080\n",
      "Epoch 30/50\n",
      "79/79 [==============================] - 11s 143ms/step - loss: 0.0602 - acc: 0.9836 - val_loss: 3.6597 - val_acc: 0.5460\n",
      "Epoch 31/50\n",
      "79/79 [==============================] - 11s 139ms/step - loss: 0.0676 - acc: 0.9816 - val_loss: 3.7502 - val_acc: 0.4940\n",
      "Epoch 32/50\n",
      "79/79 [==============================] - 11s 141ms/step - loss: 0.0501 - acc: 0.9880 - val_loss: 3.6669 - val_acc: 0.4960\n",
      "Epoch 33/50\n",
      "79/79 [==============================] - 11s 141ms/step - loss: 0.0584 - acc: 0.9824 - val_loss: 4.0990 - val_acc: 0.4920\n",
      "Epoch 34/50\n",
      "79/79 [==============================] - 11s 142ms/step - loss: 0.0306 - acc: 0.9900 - val_loss: 4.0656 - val_acc: 0.4860\n",
      "Epoch 35/50\n",
      "79/79 [==============================] - 11s 141ms/step - loss: 0.0540 - acc: 0.9832 - val_loss: 4.3279 - val_acc: 0.4680\n",
      "Epoch 36/50\n",
      "79/79 [==============================] - 11s 139ms/step - loss: 0.0500 - acc: 0.9852 - val_loss: 4.2090 - val_acc: 0.4700\n",
      "Epoch 37/50\n",
      "79/79 [==============================] - 11s 141ms/step - loss: 0.0603 - acc: 0.9832 - val_loss: 4.3563 - val_acc: 0.4880\n",
      "Epoch 38/50\n",
      "79/79 [==============================] - 11s 141ms/step - loss: 0.0484 - acc: 0.9848 - val_loss: 4.1715 - val_acc: 0.4820\n",
      "Epoch 39/50\n",
      "79/79 [==============================] - 11s 142ms/step - loss: 0.0423 - acc: 0.9860 - val_loss: 4.5660 - val_acc: 0.4680\n",
      "Epoch 40/50\n",
      "79/79 [==============================] - 12s 151ms/step - loss: 0.0505 - acc: 0.9860 - val_loss: 4.4979 - val_acc: 0.4840\n",
      "Epoch 41/50\n",
      "79/79 [==============================] - 11s 142ms/step - loss: 0.0588 - acc: 0.9828 - val_loss: 3.9736 - val_acc: 0.5260\n",
      "Epoch 42/50\n",
      "79/79 [==============================] - 11s 145ms/step - loss: 0.0735 - acc: 0.9780 - val_loss: 3.8943 - val_acc: 0.5000\n",
      "Epoch 43/50\n",
      "79/79 [==============================] - 11s 145ms/step - loss: 0.0507 - acc: 0.9868 - val_loss: 4.3355 - val_acc: 0.4140\n",
      "Epoch 44/50\n",
      "79/79 [==============================] - 12s 159ms/step - loss: 0.0437 - acc: 0.9848 - val_loss: 4.5348 - val_acc: 0.4540\n",
      "Epoch 45/50\n",
      "79/79 [==============================] - 12s 158ms/step - loss: 0.0393 - acc: 0.9892 - val_loss: 3.9606 - val_acc: 0.5140\n",
      "Epoch 46/50\n",
      "79/79 [==============================] - 12s 155ms/step - loss: 0.0389 - acc: 0.9888 - val_loss: 4.2936 - val_acc: 0.5020\n",
      "Epoch 47/50\n",
      "79/79 [==============================] - 12s 149ms/step - loss: 0.0436 - acc: 0.9880 - val_loss: 3.9185 - val_acc: 0.5040\n",
      "Epoch 48/50\n",
      "79/79 [==============================] - 11s 142ms/step - loss: 0.0640 - acc: 0.9796 - val_loss: 4.2210 - val_acc: 0.4680\n",
      "Epoch 49/50\n",
      "79/79 [==============================] - 11s 142ms/step - loss: 0.0630 - acc: 0.9836 - val_loss: 3.8514 - val_acc: 0.5080\n",
      "Epoch 50/50\n",
      "79/79 [==============================] - 11s 141ms/step - loss: 0.0317 - acc: 0.9904 - val_loss: 4.1937 - val_acc: 0.4880\n"
     ]
    },
    {
     "data": {
      "image/png": "[encoded data removed]",
      "text/plain": "<Figure size 864x360 with 2 Axes>"
     },
     "metadata": {
      "needs_background": "light"
     },
     "output_type": "display_data"
    }
   ],
   "source": [
    "# from keras.optimizers import RMSprop\r\n",
    "\r\n",
    "# optim = RMSprop(lr=1e-4)\r\n",
    "\r\n",
    "# lstm_model.compile(\r\n",
    "#     loss='CategoricalCrossentropy',\r\n",
    "#     optimizer=optim,\r\n",
    "#     metrics=['acc']\r\n",
    "# )\r\n",
    "lstm_history = lstm_model.fit(\r\n",
    "    train_ds,\r\n",
    "    validation_data=val_ds,\r\n",
    "    epochs=50\r\n",
    ")\r\n",
    "\r\n",
    "\r\n",
    "plot_history(lstm_history)"
   ]
  },
  {
   "cell_type": "code",
   "execution_count": 21,
   "metadata": {},
   "outputs": [
    {
     "name": "stdout",
     "output_type": "stream",
     "text": [
      "16/16 [==============================] - 36s 1s/step - loss: 3.8160 - acc: 0.5180\n"
     ]
    },
    {
     "data": {
      "text/plain": "[3.8159797191619873, 0.5180000066757202]"
     },
     "execution_count": 21,
     "metadata": {},
     "output_type": "execute_result"
    }
   ],
   "source": [
    "lstm_model.evaluate(test_ds)"
   ]
  },
  {
   "cell_type": "code",
   "execution_count": null,
   "metadata": {},
   "outputs": [],
   "source": []
  }
 ],
 "metadata": {
  "kernelspec": {
   "display_name": "Python 3.8.5 64-bit ('ml': conda)",
   "name": "python385jvsc74a57bd004a20cc0f25f2654a5fc5715c026c4c293afbc25926c593c301cab56769943bf"
  },
  "language_info": {
   "codemirror_mode": {
    "name": "ipython",
    "version": 3
   },
   "file_extension": ".py",
   "mimetype": "text/x-python",
   "name": "python",
   "nbconvert_exporter": "python",
   "pygments_lexer": "ipython3",
   "version": "3.8.5"
  },
  "orig_nbformat": 3
 },
 "nbformat": 4,
 "nbformat_minor": 5
}